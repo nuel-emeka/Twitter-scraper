{
 "cells": [
  {
   "cell_type": "markdown",
   "id": "destroyed-essex",
   "metadata": {},
   "source": [
    "# IMPORTING USEFUL LIBRARIES "
   ]
  },
  {
   "cell_type": "code",
   "execution_count": 1,
   "id": "close-insulin",
   "metadata": {},
   "outputs": [],
   "source": [
    "from selenium import webdriver\n",
    "from selenium.webdriver.common.keys import Keys\n",
    "from selenium.common.exceptions import NoSuchElementException\n",
    "from time import sleep\n",
    "from getpass import getpass\n",
    "import pandas as pd\n",
    "import re\n",
    "import numpy as np"
   ]
  },
  {
   "cell_type": "markdown",
   "id": "right-specification",
   "metadata": {},
   "source": [
    "# LAUNCHING THE WEBDRIVER "
   ]
  },
  {
   "cell_type": "code",
   "execution_count": 2,
   "id": "moved-district",
   "metadata": {},
   "outputs": [],
   "source": [
    "driver = webdriver.Chrome() \n",
    "driver.maximize_window()"
   ]
  },
  {
   "cell_type": "markdown",
   "id": "traditional-combine",
   "metadata": {},
   "source": [
    "# LOG-IN TO TWITTER\n",
    "\n",
    "#### **Taking your log-in details**"
   ]
  },
  {
   "cell_type": "code",
   "execution_count": null,
   "id": "handed-railway",
   "metadata": {
    "scrolled": true
   },
   "outputs": [],
   "source": [
    "username_ = input('Username: ') #prompts you for username\n",
    "password_ = getpass('Password: ') #prompts you for password"
   ]
  },
  {
   "cell_type": "markdown",
   "id": "champion-ocean",
   "metadata": {},
   "source": [
    "### Login function"
   ]
  },
  {
   "cell_type": "code",
   "execution_count": 4,
   "id": "entire-metro",
   "metadata": {},
   "outputs": [],
   "source": [
    "def login(username=username_, password=password_):\n",
    "    \"\"\"takes two arguements username and pasword with default values set to your log-in details entered above;\\\n",
    "        it return None but successfully logs you into your twitter account via the chrome webdriver.\n",
    "        NB: function applies sleep after every executable action to give driver allowance before performin the next action.\n",
    "    \"\"\"\n",
    "    driver.get('https://twitter.com/login')\n",
    "    sleep(5)\n",
    "    log_in = driver.find_element_by_xpath('.//input[@name=\"session[username_or_email]\"]')\n",
    "    log_in.send_keys(username)\n",
    "    sleep(2)\n",
    "    password_ = driver.find_element_by_xpath('//input[@name=\"session[password]\"]')\n",
    "    password_.send_keys(password)\n",
    "    sleep(2)\n",
    "    password_.send_keys(Keys.RETURN)\n",
    "    sleep(5)\n",
    "    return \n",
    "login()"
   ]
  },
  {
   "cell_type": "markdown",
   "id": "previous-invasion",
   "metadata": {},
   "source": [
    "#  SEARCHING FOR KEYWORD (#EndSars)"
   ]
  },
  {
   "cell_type": "markdown",
   "id": "legal-communist",
   "metadata": {},
   "source": [
    "### taking your search keyword and tweet category"
   ]
  },
  {
   "cell_type": "code",
   "execution_count": 5,
   "id": "pressing-sound",
   "metadata": {},
   "outputs": [
    {
     "name": "stdout",
     "output_type": "stream",
     "text": [
      "Search word: #EndSars\n",
      "Top/Latest ? : Top\n"
     ]
    }
   ],
   "source": [
    "search_ = input('Search word: ')  #prompts for the keyword\n",
    "tab_ = input('Top/Latest ? : ')  #gets what category of tweet you need, i.e either Top or Latest"
   ]
  },
  {
   "cell_type": "markdown",
   "id": "physical-plenty",
   "metadata": {},
   "source": [
    "### search function (search_func)"
   ]
  },
  {
   "cell_type": "code",
   "execution_count": 6,
   "id": "three-agriculture",
   "metadata": {},
   "outputs": [],
   "source": [
    "def search_func(search_word=search_, tab=tab_):\n",
    "    \"\"\"takes search_word and tab as arguement with defaults as prompted by the user above;\n",
    "        returns None but navigates you to the search results page on twitter.\n",
    "    \"\"\"\n",
    "    sleep(5)\n",
    "    search = driver.find_element_by_xpath('.//input[@placeholder=\"Search Twitter\"]')\n",
    "    search.send_keys(search_word)\n",
    "    sleep(2)\n",
    "    search.send_keys(Keys.RETURN)\n",
    "    sleep(2)\n",
    "    driver.find_element_by_link_text(tab).click()\n",
    "    sleep(3)\n",
    "    return\n",
    "search_func()"
   ]
  },
  {
   "cell_type": "markdown",
   "id": "oriental-director",
   "metadata": {},
   "source": [
    "# GETTING TWEETS DATA\n",
    "\n",
    "### card scraping data function"
   ]
  },
  {
   "cell_type": "code",
   "execution_count": 7,
   "id": "loving-found",
   "metadata": {},
   "outputs": [],
   "source": [
    "def card_scrap(card):\n",
    "    \"\"\" takes a card from the twitter search result page and return a dictionary containing username, handle, \n",
    "        number of replies, retweets, and likes, tweet text, emoji and its title of a card been parsed.\n",
    "    \"\"\"\n",
    "    username = card.find_element_by_xpath('./div[2]/div[1]//span').text          #stores username of card\n",
    "    # a check for omitting sponsored tweets / ads \n",
    "    try:\n",
    "        handle = card.find_element_by_xpath('.//span[contains(text(), \"@\")]').text\n",
    "        date = card.find_element_by_xpath('.//time').get_attribute('datetime')\n",
    "    except NoSuchElementException:\n",
    "        return\n",
    "    \n",
    "    tweet = card.find_element_by_xpath('./div[2]/div[2]/div[1]').text            #stores tweet texts of card\n",
    "    \n",
    "    reply = card.find_element_by_xpath('.//div[@data-testid=\"reply\"]').text      #stores number of tweet replies\n",
    "    retweet = card.find_element_by_xpath('.//div[@data-testid=\"retweet\"]').text  #stores number of retweets\n",
    "    like = card.find_element_by_xpath('.//div[@data-testid=\"like\"]').text        #stores number of likes\n",
    "    \n",
    "    emoji_list = []\n",
    "    emoji_titles = []\n",
    "    emoji_tags = card.find_elements_by_xpath('.//img[contains(@src, \"emoji\")]')\n",
    "    #loops through all emoji img tags and extracts emoji titles and characters\n",
    "    for emoji in emoji_tags:\n",
    "        emojiLink = emoji.get_attribute('src')\n",
    "        emoji_title = emoji.get_attribute('title') #gets the emoji title\n",
    "        try:\n",
    "            emoji = chr(int(re.search('/svg/([0-9a-z]+)\\.svg', emojiLink).group(1), base=16)) #gets the emoji\n",
    "        except AttributeError:\n",
    "            continue\n",
    "        if emoji:\n",
    "            emoji_list.append(emoji)\n",
    "        if emoji_title:\n",
    "            emoji_titles.append(emoji_title)\n",
    "    \n",
    "    emojis = ' '.join(emoji_list)\n",
    "    emojiTitles = ' '.join(emoji_titles)\n",
    "        \n",
    "    \n",
    "    dict_ = {'USERNAME': username, 'HANDLE': handle, 'DATE': date,\n",
    "             'TWEET': tweet, \"REPLY COUNT\": reply,\n",
    "             'RETWEET COUNT': retweet, 'LIKE COUNT': like,\n",
    "             'EMOJIS': emojis, 'EMOJI TITLES': emojiTitles}\n",
    "    return dict_"
   ]
  },
  {
   "cell_type": "markdown",
   "id": "automotive-format",
   "metadata": {},
   "source": [
    "### page scrolling while loop"
   ]
  },
  {
   "cell_type": "code",
   "execution_count": 8,
   "id": "greater-mountain",
   "metadata": {},
   "outputs": [],
   "source": [
    "scrolling  = True\n",
    "cards_len = []                                                          #stores the number of cards on every scrolled page\n",
    "lastHeight = driver.execute_script('return document.body.scrollHeight') #gets the last position before a scroll\n",
    "scrolls = 0                                       #stores the total number of scrolls and initialized with 0 count\n",
    "\n",
    "tweet_data = []   #store actual tweet data\n",
    "tweet_ids = set() #stores the tweet ids to avoid replicas of tweets\n",
    "\n",
    "#scroll loop: set a loop to keep scrolling until scrolling is set to False\n",
    "while scrolling: \n",
    "    cards = driver.find_elements_by_xpath('.//div[@data-testid=\"tweet\"]')  #gets all cards on each page\n",
    "    cards_len.append(len(cards))   #gets the number of cards on each page and appends value to the cards_len\n",
    "    \n",
    "    for card in cards:\n",
    "        tweet = card_scrap(card)\n",
    "        if tweet:\n",
    "            handle = tweet.get('HANDLE')\n",
    "            date = tweet.get('DATE')\n",
    "            tweet_ = tweet.get('TWEET')\n",
    "            tweet_id = ''.join([handle, date, tweet_]) #uses the handle, date and tweet as unique identifier of each card scraped\n",
    "            if tweet_id not in tweet_ids: \n",
    "                tweet_ids.add(tweet_id)\n",
    "                tweet_data.append(tweet)\n",
    "                \n",
    "    driver.execute_script('window.scrollTo(0, document.body.scrollHeight);') #performs the scrolling operation\n",
    "    scrolls+=1 \n",
    "    sleep(5) #sleeps the loop for 5secs to allow page load completely\n",
    "    newHeight = driver.execute_script('return document.body.scrollHeight') #takes the current position of the page\n",
    "    checkScroll = 0 #a check for the number of scroll\n",
    "    \n",
    "    #scroll checking loop: checks if the the driver truly hits its final scroll\n",
    "    while True:\n",
    "        if lastHeight==newHeight:\n",
    "            #breaks both while loops after 4 consecutive scrolls if page position remains same\n",
    "            if checkScroll > 4: \n",
    "                scrolling = False\n",
    "                break\n",
    "            #keeps scrolling driver until the checkScroll exceeds 4 i.e maximum \"scroll checking loop\" is done 4 times\n",
    "            else: \n",
    "                driver.execute_script('window.scrollTo(0, document.body.scrollHeight);')\n",
    "                checkScroll+=1  #adds 1 to total checkScroll,\n",
    "                sleep(3)\n",
    "                newHeight = driver.execute_script('return document.body.scrollHeight')\n",
    "        #breaks \"scroll checking loop\" if pervious page height is not same as current page height\n",
    "        else: \n",
    "            lastHeight = newHeight\n",
    "            break\n",
    "\n",
    "#closing the driver.\n",
    "driver.close()"
   ]
  },
  {
   "cell_type": "markdown",
   "id": "allied-murder",
   "metadata": {},
   "source": [
    "# SAVING TWEET DATA"
   ]
  },
  {
   "cell_type": "markdown",
   "id": "ideal-validity",
   "metadata": {},
   "source": [
    "### using the pandas library's .to_csv() method"
   ]
  },
  {
   "cell_type": "code",
   "execution_count": 9,
   "id": "configured-elite",
   "metadata": {},
   "outputs": [],
   "source": [
    "username = []\n",
    "handle = []\n",
    "datetime = []\n",
    "text = []\n",
    "emoji =  []\n",
    "emoji_titles = []\n",
    "likes = []\n",
    "retweets = []\n",
    "\n",
    "#loops through tweet data and stores all data in their appropriate category.\n",
    "for data in tweet_data:\n",
    "    username.append(data.get('USERNAME'))\n",
    "    handle.append(data.get('HANDLE'))\n",
    "    datetime.append(data.get('DATE'))\n",
    "    text.append(data.get('TWEET'))\n",
    "    emoji.append(data.get('EMOJIS'))\n",
    "    emoji_titles.append(data.get('EMOJI TITLES'))\n",
    "    likes.append(data.get('LIKE COUNT'))\n",
    "    retweets.append(data.get('RETWEET COUNT'))"
   ]
  },
  {
   "cell_type": "code",
   "execution_count": 10,
   "id": "connected-beast",
   "metadata": {},
   "outputs": [
    {
     "data": {
      "text/html": [
       "<div>\n",
       "<style scoped>\n",
       "    .dataframe tbody tr th:only-of-type {\n",
       "        vertical-align: middle;\n",
       "    }\n",
       "\n",
       "    .dataframe tbody tr th {\n",
       "        vertical-align: top;\n",
       "    }\n",
       "\n",
       "    .dataframe thead th {\n",
       "        text-align: right;\n",
       "    }\n",
       "</style>\n",
       "<table border=\"1\" class=\"dataframe\">\n",
       "  <thead>\n",
       "    <tr style=\"text-align: right;\">\n",
       "      <th></th>\n",
       "      <th>UserName</th>\n",
       "      <th>Handle</th>\n",
       "      <th>DateTime</th>\n",
       "      <th>Text</th>\n",
       "      <th>Emoji</th>\n",
       "      <th>EmojiTitles</th>\n",
       "      <th>Likes</th>\n",
       "      <th>Retweets</th>\n",
       "    </tr>\n",
       "  </thead>\n",
       "  <tbody>\n",
       "    <tr>\n",
       "      <th>0</th>\n",
       "      <td>unruly</td>\n",
       "      <td>@getunruly</td>\n",
       "      <td>2021-05-25T21:14:38.000Z</td>\n",
       "      <td>Dazed did a thing. Remembering them 20 - 10 - ...</td>\n",
       "      <td>🕊</td>\n",
       "      <td></td>\n",
       "      <td>879</td>\n",
       "      <td>356</td>\n",
       "    </tr>\n",
       "    <tr>\n",
       "      <th>1</th>\n",
       "      <td>Chris Okafor</td>\n",
       "      <td>@ChrisOkafor11</td>\n",
       "      <td>2021-05-26T05:44:18.000Z</td>\n",
       "      <td>I remember the deafening noise around this duo...</td>\n",
       "      <td></td>\n",
       "      <td></td>\n",
       "      <td>701</td>\n",
       "      <td>761</td>\n",
       "    </tr>\n",
       "    <tr>\n",
       "      <th>2</th>\n",
       "      <td>‘Dayo</td>\n",
       "      <td>@oladayoraji_</td>\n",
       "      <td>2021-05-25T06:36:08.000Z</td>\n",
       "      <td>These shots will never not be surreal...  let’...</td>\n",
       "      <td></td>\n",
       "      <td></td>\n",
       "      <td>536</td>\n",
       "      <td>210</td>\n",
       "    </tr>\n",
       "    <tr>\n",
       "      <th>3</th>\n",
       "      <td>LOVE-DENNIS</td>\n",
       "      <td>@dennisaunch</td>\n",
       "      <td>2021-05-26T05:59:20.000Z</td>\n",
       "      <td>Please retweet as soon as you see this , innoc...</td>\n",
       "      <td>🧢</td>\n",
       "      <td>Billed cap</td>\n",
       "      <td>1.3K</td>\n",
       "      <td>2.5K</td>\n",
       "    </tr>\n",
       "    <tr>\n",
       "      <th>4</th>\n",
       "      <td>FS Yusuf</td>\n",
       "      <td>@FS_Yusuf_</td>\n",
       "      <td>2021-05-26T05:34:30.000Z</td>\n",
       "      <td>Emefiele that blocked bank accounts of several...</td>\n",
       "      <td></td>\n",
       "      <td></td>\n",
       "      <td>2.6K</td>\n",
       "      <td>1.8K</td>\n",
       "    </tr>\n",
       "  </tbody>\n",
       "</table>\n",
       "</div>"
      ],
      "text/plain": [
       "       UserName          Handle                  DateTime  \\\n",
       "0        unruly      @getunruly  2021-05-25T21:14:38.000Z   \n",
       "1  Chris Okafor  @ChrisOkafor11  2021-05-26T05:44:18.000Z   \n",
       "2         ‘Dayo   @oladayoraji_  2021-05-25T06:36:08.000Z   \n",
       "3   LOVE-DENNIS    @dennisaunch  2021-05-26T05:59:20.000Z   \n",
       "4      FS Yusuf      @FS_Yusuf_  2021-05-26T05:34:30.000Z   \n",
       "\n",
       "                                                Text Emoji EmojiTitles Likes  \\\n",
       "0  Dazed did a thing. Remembering them 20 - 10 - ...     🕊               879   \n",
       "1  I remember the deafening noise around this duo...                     701   \n",
       "2  These shots will never not be surreal...  let’...                     536   \n",
       "3  Please retweet as soon as you see this , innoc...     🧢  Billed cap  1.3K   \n",
       "4  Emefiele that blocked bank accounts of several...                    2.6K   \n",
       "\n",
       "  Retweets  \n",
       "0      356  \n",
       "1      761  \n",
       "2      210  \n",
       "3     2.5K  \n",
       "4     1.8K  "
      ]
     },
     "execution_count": 10,
     "metadata": {},
     "output_type": "execute_result"
    }
   ],
   "source": [
    "#create a dataframe of the tweet data\n",
    "final_data = pd.DataFrame({'UserName': username, 'Handle': handle, 'DateTime': datetime, \n",
    "                           'Text': text, 'Emoji': emoji, 'EmojiTitles': emoji_titles, \n",
    "                           'Likes': likes, 'Retweets': retweets}\n",
    "                          )\n",
    "final_data.head() #view top five tweet"
   ]
  },
  {
   "cell_type": "code",
   "execution_count": 11,
   "id": "curious-delay",
   "metadata": {},
   "outputs": [
    {
     "data": {
      "text/html": [
       "<div>\n",
       "<style scoped>\n",
       "    .dataframe tbody tr th:only-of-type {\n",
       "        vertical-align: middle;\n",
       "    }\n",
       "\n",
       "    .dataframe tbody tr th {\n",
       "        vertical-align: top;\n",
       "    }\n",
       "\n",
       "    .dataframe thead th {\n",
       "        text-align: right;\n",
       "    }\n",
       "</style>\n",
       "<table border=\"1\" class=\"dataframe\">\n",
       "  <thead>\n",
       "    <tr style=\"text-align: right;\">\n",
       "      <th></th>\n",
       "      <th>UserName</th>\n",
       "      <th>Handle</th>\n",
       "      <th>DateTime</th>\n",
       "      <th>Text</th>\n",
       "      <th>Emoji</th>\n",
       "      <th>EmojiTitles</th>\n",
       "      <th>Likes</th>\n",
       "      <th>Retweets</th>\n",
       "    </tr>\n",
       "  </thead>\n",
       "  <tbody>\n",
       "    <tr>\n",
       "      <th>163</th>\n",
       "      <td>Iyabeni Patrick #ThingsDeyHappen</td>\n",
       "      <td>@IyabeniP</td>\n",
       "      <td>2021-05-28T08:35:20.000Z</td>\n",
       "      <td>Shameful  #EndSARS #EndPoliceBrutalityinNigeria</td>\n",
       "      <td>💔</td>\n",
       "      <td>Broken heart</td>\n",
       "      <td></td>\n",
       "      <td></td>\n",
       "    </tr>\n",
       "    <tr>\n",
       "      <th>164</th>\n",
       "      <td>Agba Jalingo</td>\n",
       "      <td>@agbajalingo_</td>\n",
       "      <td>2021-05-28T14:35:43.000Z</td>\n",
       "      <td>VIDEO: Donald Duke has returned to the same PD...</td>\n",
       "      <td></td>\n",
       "      <td></td>\n",
       "      <td>4</td>\n",
       "      <td>3</td>\n",
       "    </tr>\n",
       "    <tr>\n",
       "      <th>165</th>\n",
       "      <td>Young pac</td>\n",
       "      <td>@richieedet</td>\n",
       "      <td>2021-05-28T15:42:48.000Z</td>\n",
       "      <td>And he want us to vote him as our President. G...</td>\n",
       "      <td></td>\n",
       "      <td></td>\n",
       "      <td></td>\n",
       "      <td></td>\n",
       "    </tr>\n",
       "    <tr>\n",
       "      <th>166</th>\n",
       "      <td>QueenVLion</td>\n",
       "      <td>@QueenVLion1</td>\n",
       "      <td>2021-05-27T15:55:32.000Z</td>\n",
       "      <td>#OromoProtests #ShutItAllDown #AnglophoneCrisi...</td>\n",
       "      <td>👑 🚨 🗣</td>\n",
       "      <td>Crown Police cars revolving light</td>\n",
       "      <td>1</td>\n",
       "      <td></td>\n",
       "    </tr>\n",
       "    <tr>\n",
       "      <th>167</th>\n",
       "      <td>black venus</td>\n",
       "      <td>@purple_pastry</td>\n",
       "      <td>2021-05-27T10:21:12.000Z</td>\n",
       "      <td>WOW!!! MUST READ AND RT TO SAVE A LIFE!! #EndP...</td>\n",
       "      <td></td>\n",
       "      <td></td>\n",
       "      <td></td>\n",
       "      <td></td>\n",
       "    </tr>\n",
       "  </tbody>\n",
       "</table>\n",
       "</div>"
      ],
      "text/plain": [
       "                             UserName          Handle  \\\n",
       "163  Iyabeni Patrick #ThingsDeyHappen       @IyabeniP   \n",
       "164                      Agba Jalingo   @agbajalingo_   \n",
       "165                         Young pac     @richieedet   \n",
       "166                        QueenVLion    @QueenVLion1   \n",
       "167                       black venus  @purple_pastry   \n",
       "\n",
       "                     DateTime  \\\n",
       "163  2021-05-28T08:35:20.000Z   \n",
       "164  2021-05-28T14:35:43.000Z   \n",
       "165  2021-05-28T15:42:48.000Z   \n",
       "166  2021-05-27T15:55:32.000Z   \n",
       "167  2021-05-27T10:21:12.000Z   \n",
       "\n",
       "                                                  Text  Emoji  \\\n",
       "163    Shameful  #EndSARS #EndPoliceBrutalityinNigeria      💔   \n",
       "164  VIDEO: Donald Duke has returned to the same PD...          \n",
       "165  And he want us to vote him as our President. G...          \n",
       "166  #OromoProtests #ShutItAllDown #AnglophoneCrisi...  👑 🚨 🗣   \n",
       "167  WOW!!! MUST READ AND RT TO SAVE A LIFE!! #EndP...          \n",
       "\n",
       "                           EmojiTitles Likes Retweets  \n",
       "163                       Broken heart                 \n",
       "164                                        4        3  \n",
       "165                                                    \n",
       "166  Crown Police cars revolving light     1           \n",
       "167                                                    "
      ]
     },
     "execution_count": 11,
     "metadata": {},
     "output_type": "execute_result"
    }
   ],
   "source": [
    "final_data.tail() #view bottom five"
   ]
  },
  {
   "cell_type": "code",
   "execution_count": 12,
   "id": "prostate-rates",
   "metadata": {},
   "outputs": [
    {
     "data": {
      "text/plain": [
       "(168, 8)"
      ]
     },
     "execution_count": 12,
     "metadata": {},
     "output_type": "execute_result"
    }
   ],
   "source": [
    "#shape of data collected\n",
    "final_data.shape"
   ]
  },
  {
   "cell_type": "markdown",
   "id": "hindu-motivation",
   "metadata": {},
   "source": [
    "## saving the dataframe into a csv file."
   ]
  },
  {
   "cell_type": "code",
   "execution_count": 13,
   "id": "fifty-attitude",
   "metadata": {},
   "outputs": [],
   "source": [
    "final_data.to_csv('EndSarsTopTweets.csv')"
   ]
  },
  {
   "cell_type": "markdown",
   "id": "forced-fiction",
   "metadata": {},
   "source": [
    "#### little statistics on scraping"
   ]
  },
  {
   "cell_type": "code",
   "execution_count": 14,
   "id": "intended-coating",
   "metadata": {},
   "outputs": [
    {
     "data": {
      "text/plain": [
       "24"
      ]
     },
     "execution_count": 14,
     "metadata": {},
     "output_type": "execute_result"
    }
   ],
   "source": [
    "scrolls # number of scrolls achieved "
   ]
  },
  {
   "cell_type": "code",
   "execution_count": 15,
   "id": "valid-service",
   "metadata": {},
   "outputs": [
    {
     "data": {
      "text/plain": [
       "[6, 9, 8, 9, 10, 7, 11, 8, 7, 8, 11, 9, 8, 9, 8, 9, 9, 10, 10, 8, 9, 10, 9, 6]"
      ]
     },
     "execution_count": 15,
     "metadata": {},
     "output_type": "execute_result"
    }
   ],
   "source": [
    "cards_len # number of cards on each page"
   ]
  },
  {
   "cell_type": "code",
   "execution_count": 16,
   "id": "transparent-xerox",
   "metadata": {},
   "outputs": [
    {
     "data": {
      "text/plain": [
       "8.666666666666666"
      ]
     },
     "execution_count": 16,
     "metadata": {},
     "output_type": "execute_result"
    }
   ],
   "source": [
    "np.mean(cards_len) # average number of cards on each page"
   ]
  }
 ],
 "metadata": {
  "kernelspec": {
   "display_name": "Python 3",
   "language": "python",
   "name": "python3"
  },
  "language_info": {
   "codemirror_mode": {
    "name": "ipython",
    "version": 3
   },
   "file_extension": ".py",
   "mimetype": "text/x-python",
   "name": "python",
   "nbconvert_exporter": "python",
   "pygments_lexer": "ipython3",
   "version": "3.9.2"
  }
 },
 "nbformat": 4,
 "nbformat_minor": 5
}
